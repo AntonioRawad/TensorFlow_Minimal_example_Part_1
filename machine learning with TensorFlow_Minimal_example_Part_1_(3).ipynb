{
  "cells": [
    {
      "cell_type": "markdown",
      "metadata": {
        "id": "urATvGbNVTTC"
      },
      "source": [
        "### Import the relevant libraries"
      ]
    },
    {
      "cell_type": "markdown",
      "source": [
        "\n",
        "The code is implementing a linear regression model in TensorFlow.\n",
        "\n",
        "The first part of the code generates some data for training. It creates two input variables (xs and zs) and adds a small random noise to the output variable (generated_targets). These values are saved in an npz file.\n",
        "\n",
        "In the second part of the code, TensorFlow placeholders are created for the inputs and targets. Placeholders are used to feed the data into the computational graph.\n",
        "\n",
        "The weights and biases are defined as TensorFlow variables. These are the parameters that will be updated during training.\n",
        "\n",
        "The linear equation y = xw + b is defined using TensorFlow operations, where x is the input, w is the weight, and b is the bias.\n",
        "\n",
        "The mean squared error loss function is defined using TensorFlow's built-in function tf.losses.mean_squared_error. The optimization is performed using the GradientDescentOptimizer with a learning rate of 0.05.\n",
        "\n",
        "Finally, the variables are initialized, and the training data is loaded from the npz file. The model is trained for 100 iterations using the training data."
      ],
      "metadata": {
        "id": "Bl-Z88dcfUCq"
      }
    },
    {
      "cell_type": "code",
      "execution_count": 2,
      "metadata": {
        "collapsed": true,
        "colab": {
          "base_uri": "https://localhost:8080/"
        },
        "id": "tsstjjbqVTTI",
        "outputId": "bf7393e2-8c62-4091-8d6f-2d97d013d8e0"
      },
      "outputs": [
        {
          "output_type": "stream",
          "name": "stderr",
          "text": [
            "WARNING:tensorflow:From /usr/local/lib/python3.10/dist-packages/tensorflow/python/compat/v2_compat.py:107: disable_resource_variables (from tensorflow.python.ops.variable_scope) is deprecated and will be removed in a future version.\n",
            "Instructions for updating:\n",
            "non-resource variables are not supported in the long term\n"
          ]
        }
      ],
      "source": [
        "# We must always import the relevant libraries for our problem at hand. NumPy and TensorFlow are required for this example.\n",
        "import numpy as np\n",
        "import matplotlib.pyplot as plt\n",
        "import tensorflow as tf\n",
        "import tensorflow.compat.v1 as tf\n",
        "tf.disable_v2_behavior()\n"
      ]
    },
    {
      "cell_type": "markdown",
      "metadata": {
        "id": "fMQBP-E5VTTK"
      },
      "source": [
        "### Data generation\n",
        "\n",
        "We generate data using the exact same logic and code as the example from the previous notebook. The only difference now is that we save it to an npz file. Npz is numpy's file type which allows you to save numpy arrays into a single .npz file. We introduce this change because in machine learning most often: \n",
        "\n",
        "* you are given some data (csv, database, etc.)\n",
        "* you preprocess it into a desired format (later on we will see methods for preprocesing)\n",
        "* you save it into npz files (if you're working in Python) to access later\n",
        "\n",
        "Nothing to worry about - this is literally saving your NumPy arrays into a file that you can later access, nothing more."
      ]
    },
    {
      "cell_type": "code",
      "execution_count": 3,
      "metadata": {
        "collapsed": true,
        "id": "cVfaLxA0VTTL"
      },
      "outputs": [],
      "source": [
        "# First, we should declare a variable containing the size of the training set we want to generate.\n",
        "observations = 1000\n",
        "\n",
        "# We will work with two variables as inputs. You can think about them as x1 and x2 in our previous examples.\n",
        "# We have picked x and z, since it is easier to differentiate them.\n",
        "# We generate them randomly, drawing from an uniform distribution. There are 3 arguments of this method (low, high, size).\n",
        "# The size of xs and zs is observations x 1. In this case: 1000 x 1.\n",
        "xs = np.random.uniform(low=-10, high=10, size=(observations,1))\n",
        "zs = np.random.uniform(-10, 10, (observations,1))\n",
        "\n",
        "# Combine the two dimensions of the input into one input matrix. \n",
        "# This is the X matrix from the linear model y = x*w + b.\n",
        "# column_stack is a Numpy method, which combines two matrices (vectors) into one.\n",
        "generated_inputs = np.column_stack((xs,zs))\n",
        "\n",
        "# We add a random small noise to the function i.e. f(x,z) = 2x - 3z + 5 + <small noise>\n",
        "noise = np.random.uniform(-1, 1, (observations,1))\n",
        "\n",
        "# Produce the targets according to our f(x,z) = 2x - 3z + 5 + noise definition.\n",
        "# In this way, we are basically saying: the weights should be 2 and -3, while the bias is 5.\n",
        "generated_targets = 2*xs - 3*zs + 5 + noise\n",
        "\n",
        "# save into an npz file called \"TF_intro\"\n",
        "np.savez('TF_intro', inputs=generated_inputs, targets=generated_targets)"
      ]
    },
    {
      "cell_type": "code",
      "source": [],
      "metadata": {
        "id": "qXLvK8UBVfAK"
      },
      "execution_count": 3,
      "outputs": []
    },
    {
      "cell_type": "markdown",
      "source": [
        "## Solving with TensorFlow\n",
        "\n",
        "<i/>Note: This intro is just the basics of TensorFlow which has way more capabilities and depth than that.<i>"
      ],
      "metadata": {
        "id": "fbFlYRhcVlJJ"
      }
    },
    {
      "cell_type": "markdown",
      "source": [
        "# The shape of the data we've prepared above. Think about it as: number of inputs, number of outputs."
      ],
      "metadata": {
        "id": "ABUy0OcYVvUN"
      }
    },
    {
      "cell_type": "code",
      "source": [
        "input_size = 2\n",
        "output_size = 1"
      ],
      "metadata": {
        "id": "sC8Vr-1GVfHm"
      },
      "execution_count": 4,
      "outputs": []
    },
    {
      "cell_type": "code",
      "source": [
        "# Here we define a basic TensorFlow object - the placeholder.\n",
        "# As before, we will feed the inputs and targets to the model. \n",
        "# In the TensorFlow context, we feed the data to the model THROUGH the placeholders. \n",
        "# The particular inputs and targets are contained in our .npz file.\n",
        "\n",
        "# The first None parameter of the placeholders' shape means that\n",
        "# this dimension could be of any length. That's since we are mainly interested in\n",
        "# the input size, i.e. how many input variables we have and not the number of samples (observations)\n",
        "# The number of input variables changes the MODEL itself, while the number of observations doesn't.\n",
        "# Remember that the weights and biases were independent of the number of samples, so the MODEL is independent.\n",
        "# Important: NO calculation happens at this point.\n",
        "\n",
        "inputs = tf.compat.v1.placeholder(tf.float32, [None, input_size])\n",
        "targets = tf.compat.v1.placeholder(tf.float32, [None, output_size])\n",
        "\n",
        "\n",
        "# As before, we define our weights and biases.\n",
        "# They are the other basic TensorFlow object - a variable.\n",
        "# We feed data into placeholders and they have a different value for each iteration\n",
        "# Variables, however, preserve their values across iterations.\n",
        "# To sum up, data goes into placeholders; parameters go into variables.\n",
        "\n",
        "# We use the same random uniform initialization in [-0.1,0.1] as in the minimal example but using the TF syntax\n",
        "# Important: NO calculation happens at this point.\n",
        "\n",
        "weights = tf.Variable(tf.random_uniform([input_size, output_size], minval=-0.1, maxval=0.1))\n",
        "biases = tf.Variable(tf.random_uniform([output_size], minval=-0.1, maxval=0.1))\n",
        "\n",
        "# We get the outputs following our linear combination: y = xw + b\n",
        "# Important: NO calculation happens at this point.\n",
        "# This line simply tells TensorFlow what rule to apply when we feed in the training data (below).\n",
        "outputs = tf.matmul(inputs, weights) + biases"
      ],
      "metadata": {
        "id": "Y-nnAen0VfLB"
      },
      "execution_count": 5,
      "outputs": []
    },
    {
      "cell_type": "markdown",
      "source": [
        "### Choosing the objective function and the optimization method"
      ],
      "metadata": {
        "id": "M8uV0LJ7ZBtm"
      }
    },
    {
      "cell_type": "code",
      "source": [
        "# Again, we use a loss function, this time readily available, though.\n",
        "# mean_squared_error is the scaled L2-norm (per observation)\n",
        "# We divide by two to follow our earlier definitions. That doesn't really change anything.\n",
        "\n",
        "mean_loss = tf.losses.mean_squared_error(labels=targets, predictions=outputs) / 2.\n",
        "\n",
        "# Note that there also exists a function tf.nn.l2_loss. \n",
        "# tf.nn.l2_loss calculates the loss over all samples, instead of the average loss per sample.\n",
        "# Practically it's the same, a matter of preference.\n",
        "# The difference would be a smaller or larger learning rate to achieve the exact same result.\n",
        "\n",
        "# Instead of implementing Gradient Descent on our own, in TensorFlow we can simply state\n",
        "# \"Minimize the mean loss by using Gradient Descent with a given learning rate\"\n",
        "# Simple as that.\n",
        "\n",
        "optimize = tf.train.GradientDescentOptimizer(learning_rate=0.05).minimize(mean_loss)"
      ],
      "metadata": {
        "id": "vm7-NGhGVfam"
      },
      "execution_count": 6,
      "outputs": []
    },
    {
      "cell_type": "markdown",
      "source": [
        "### Prepare for execution"
      ],
      "metadata": {
        "id": "nzBADCv5ZPIS"
      }
    },
    {
      "cell_type": "markdown",
      "source": [
        "### So far we've defined the placeholders, variables, the loss function and the optimization method.\n",
        "### We have the structure for training, but we haven't trained anything yet.\n",
        "### The actual training (and subsequent implementation of the ML algorithm) happens inside sessions."
      ],
      "metadata": {
        "id": "HwOTtrwoZZ8g"
      }
    },
    {
      "cell_type": "code",
      "source": [
        "sess = tf.InteractiveSession()"
      ],
      "metadata": {
        "id": "7yM1qjwfVfdv"
      },
      "execution_count": 7,
      "outputs": []
    },
    {
      "cell_type": "markdown",
      "source": [
        "### Initializing variables"
      ],
      "metadata": {
        "id": "2ed5LnOMZ4lb"
      }
    },
    {
      "cell_type": "code",
      "source": [
        "# Before we start training, we need to initialize our variables: the weights and biases.\n",
        "# There is a specific method for initializing called global_variables_initializer().\n",
        "# Let's declare a variable \"initializer\" that will do that.\n",
        "\n",
        "initializer = tf.global_variables_initializer()\n",
        "\n",
        "# Time to initialize the variables.\n",
        "sess.run(initializer)"
      ],
      "metadata": {
        "id": "yISZwee4Vfh-"
      },
      "execution_count": 8,
      "outputs": []
    },
    {
      "cell_type": "markdown",
      "source": [
        "### Loading training data"
      ],
      "metadata": {
        "id": "-1Z-AZeobFmZ"
      }
    },
    {
      "cell_type": "code",
      "source": [
        "# We finally load the training data we created above.\n",
        "training_data = np.load('TF_intro.npz')"
      ],
      "metadata": {
        "id": "dU9SoCWqVfnZ"
      },
      "execution_count": 13,
      "outputs": []
    },
    {
      "cell_type": "markdown",
      "source": [
        "### Learning"
      ],
      "metadata": {
        "id": "Eu-mzB7PbRUb"
      }
    },
    {
      "cell_type": "code",
      "source": [
        "# As in the previous example, we train for a set number (100) of iterations over the dataset\n",
        "#for i in range(100):\n",
        "\n",
        "    # This expression is a bit more complex but you'll learn to appreciate its power and\n",
        "    # flexibility in the following lessons.\n",
        "    # sess.run is the session's function to actually do something, anything.\n",
        "    # Above, we used it to initialize the variables.\n",
        "    # Here, we use it to feed the training data to the computational graph, defined by the feed_dict parameter\n",
        "    # and run operations (already defined above), given as the first parameter (optimize, mean_loss).\n",
        "    \n",
        "    # So the line of code means: \"Run the optimize and mean_loss operations by filling the placeholder\n",
        "    # objects with data from the feed_dict parameter\".\n",
        "    # Curr_loss catches the output from the two operations.\n",
        "    # Using \"_,\" we omit the first one, because optimize has no output (it's always \"None\"). \n",
        "    # The second one catches the value of the mean_loss for the current run, thus curr_loss actually = mean_loss \n",
        "    #_, curr_loss = sess.run([optimize, mean_loss], feed_dict={inputs: training_data['inputs'], targets: training_data['targets']}) \n",
        "      \n",
        "    \n",
        "    # We print the current average loss\n",
        "    # We print the current average loss\n",
        "\n",
        "for i in range(100):\n",
        "    curr_loss = sess.run([optimize, mean_loss], \n",
        "    feed_dict={inputs: training_data['inputs'], targets: training_data['targets']})\n",
        "    print(curr_loss)\n",
        "\n",
        "     "
      ],
      "metadata": {
        "colab": {
          "base_uri": "https://localhost:8080/"
        },
        "id": "dKW7GCaJVfqm",
        "outputId": "3d282f09-1722-40a2-a2aa-657a6f835ee5"
      },
      "execution_count": 14,
      "outputs": [
        {
          "output_type": "stream",
          "name": "stdout",
          "text": [
            "[None, 234.58546]\n",
            "[None, 109.44917]\n",
            "[None, 54.3025]\n",
            "[None, 29.260063]\n",
            "[None, 17.495668]\n",
            "[None, 11.720947]\n",
            "[None, 8.706977]\n",
            "[None, 6.996045]\n",
            "[None, 5.919417]\n",
            "[None, 5.1657085]\n",
            "[None, 4.5875664]\n",
            "[None, 4.11376]\n",
            "[None, 3.7087379]\n",
            "[None, 3.3538578]\n",
            "[None, 3.038605]\n",
            "[None, 2.7564607]\n",
            "[None, 2.502942]\n",
            "[None, 2.2746663]\n",
            "[None, 2.0688913]\n",
            "[None, 1.8832908]\n",
            "[None, 1.7158368]\n",
            "[None, 1.5647296]\n",
            "[None, 1.4283632]\n",
            "[None, 1.3052926]\n",
            "[None, 1.1942203]\n",
            "[None, 1.0939748]\n",
            "[None, 1.0035003]\n",
            "[None, 0.9218441]\n",
            "[None, 0.8481464]\n",
            "[None, 0.78163123]\n",
            "[None, 0.72159904]\n",
            "[None, 0.6674178]\n",
            "[None, 0.61851734]\n",
            "[None, 0.57438296]\n",
            "[None, 0.53454995]\n",
            "[None, 0.49859956]\n",
            "[None, 0.46615246]\n",
            "[None, 0.4368681]\n",
            "[None, 0.41043764]\n",
            "[None, 0.3865834]\n",
            "[None, 0.36505365]\n",
            "[None, 0.3456225]\n",
            "[None, 0.32808548]\n",
            "[None, 0.31225717]\n",
            "[None, 0.29797193]\n",
            "[None, 0.28507885]\n",
            "[None, 0.2734425]\n",
            "[None, 0.2629399]\n",
            "[None, 0.25346142]\n",
            "[None, 0.2449064]\n",
            "[None, 0.23718542]\n",
            "[None, 0.23021677]\n",
            "[None, 0.22392727]\n",
            "[None, 0.21825083]\n",
            "[None, 0.21312763]\n",
            "[None, 0.2085036]\n",
            "[None, 0.20433049]\n",
            "[None, 0.20056392]\n",
            "[None, 0.1971646]\n",
            "[None, 0.19409661]\n",
            "[None, 0.19132745]\n",
            "[None, 0.1888284]\n",
            "[None, 0.18657275]\n",
            "[None, 0.18453692]\n",
            "[None, 0.18269949]\n",
            "[None, 0.18104127]\n",
            "[None, 0.17954455]\n",
            "[None, 0.17819376]\n",
            "[None, 0.17697464]\n",
            "[None, 0.17587438]\n",
            "[None, 0.17488128]\n",
            "[None, 0.17398499]\n",
            "[None, 0.17317602]\n",
            "[None, 0.17244598]\n",
            "[None, 0.171787]\n",
            "[None, 0.17119233]\n",
            "[None, 0.17065556]\n",
            "[None, 0.17017114]\n",
            "[None, 0.16973388]\n",
            "[None, 0.1693393]\n",
            "[None, 0.1689832]\n",
            "[None, 0.16866173]\n",
            "[None, 0.16837165]\n",
            "[None, 0.16810977]\n",
            "[None, 0.16787347]\n",
            "[None, 0.16766019]\n",
            "[None, 0.16746771]\n",
            "[None, 0.16729395]\n",
            "[None, 0.16713715]\n",
            "[None, 0.16699566]\n",
            "[None, 0.16686793]\n",
            "[None, 0.16675259]\n",
            "[None, 0.16664861]\n",
            "[None, 0.16655472]\n",
            "[None, 0.16646995]\n",
            "[None, 0.16639347]\n",
            "[None, 0.1663244]\n",
            "[None, 0.16626212]\n",
            "[None, 0.16620588]\n",
            "[None, 0.16615513]\n"
          ]
        }
      ]
    },
    {
      "cell_type": "code",
      "source": [],
      "metadata": {
        "id": "hC45FlFMkGdL"
      },
      "execution_count": null,
      "outputs": []
    },
    {
      "cell_type": "markdown",
      "source": [
        "### Plotting the data"
      ],
      "metadata": {
        "id": "miODiW8Sbb41"
      }
    },
    {
      "cell_type": "code",
      "source": [
        "# As before, we want to plot the last output vs targets after the training is supposedly over.\n",
        "# Same notation as above but this time we don't want to train anymore, and we are not interested\n",
        "# in the loss function value.\n",
        "# What we want, however, are the outputs. \n",
        "# Therefore, instead of the optimize and mean_loss operations, we pass the \"outputs\" as the only parameter.\n",
        "out = sess.run([outputs], \n",
        "               feed_dict={inputs: training_data['inputs']})\n",
        "# The model is optimized, so the outputs are calculated based on the last form of the model\n",
        "\n",
        "# We have to np.squeeze the arrays in order to fit them to what the plot function expects.\n",
        "# Doesn't change anything as we cut dimensions of size 1 - just a technicality.\n",
        "plt.plot(np.squeeze(out), np.squeeze(training_data['targets']))\n",
        "plt.xlabel('outputs')\n",
        "plt.ylabel('targets')\n",
        "plt.show()\n",
        "        \n"
      ],
      "metadata": {
        "id": "DTWUdiPpVfvl",
        "colab": {
          "base_uri": "https://localhost:8080/",
          "height": 449
        },
        "outputId": "8f6f6e2d-5b16-4625-a19d-a3cc23e5cfe1"
      },
      "execution_count": 16,
      "outputs": [
        {
          "output_type": "display_data",
          "data": {
            "text/plain": [
              "<Figure size 640x480 with 1 Axes>"
            ],
            "image/png": "[encoded data removed]"
          },
          "metadata": {}
        }
      ]
    },
    {
      "cell_type": "code",
      "source": [],
      "metadata": {
        "id": "7ja8mcsWVfy6"
      },
      "execution_count": null,
      "outputs": []
    },
    {
      "cell_type": "code",
      "source": [],
      "metadata": {
        "id": "7DV1FGHxVf4U"
      },
      "execution_count": null,
      "outputs": []
    }
  ],
  "metadata": {
    "kernelspec": {
      "display_name": "Python 3",
      "language": "python",
      "name": "python3"
    },
    "language_info": {
      "codemirror_mode": {
        "name": "ipython",
        "version": 3
      },
      "file_extension": ".py",
      "mimetype": "text/x-python",
      "name": "python",
      "nbconvert_exporter": "python",
      "pygments_lexer": "ipython3",
      "version": "3.6.2"
    },
    "colab": {
      "provenance": []
    }
  },
  "nbformat": 4,
  "nbformat_minor": 0
}